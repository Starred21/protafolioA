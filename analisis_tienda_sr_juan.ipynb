{
  "nbformat": 4,
  "nbformat_minor": 0,
  "metadata": {
    "colab": {
      "provenance": []
    },
    "kernelspec": {
      "name": "python3",
      "display_name": "Python 3"
    },
    "language_info": {
      "name": "python"
    }
  },
  "cells": [
    {
      "cell_type": "markdown",
      "source": [
        "#Importacion de datos"
      ],
      "metadata": {
        "id": "a6ikPuVynMdQ"
      }
    },
    {
      "cell_type": "markdown",
      "source": [
        "## importacion desde archivos .CSV"
      ],
      "metadata": {
        "id": "7qBxuBZhnnvL"
      }
    },
    {
      "cell_type": "markdown",
      "source": [
        "## importacion de archivos desde web"
      ],
      "metadata": {
        "id": "MHvX8rwjuKp_"
      }
    },
    {
      "cell_type": "code",
      "source": [
        "import pandas as pd\n",
        "\n",
        "url = \"https://raw.githubusercontent.com/alura-es-cursos/challenge1-data-science-latam/refs/heads/main/base-de-datos-challenge1-latam/tienda_1%20.csv\"\n",
        "url2 = \"https://raw.githubusercontent.com/alura-es-cursos/challenge1-data-science-latam/refs/heads/main/base-de-datos-challenge1-latam/tienda_2.csv\""
      ],
      "metadata": {
        "id": "6607xHFetC1x"
      },
      "execution_count": 1,
      "outputs": []
    },
    {
      "cell_type": "markdown",
      "source": [
        "al traer una tabla desde la web en este caso un repositorio de github debemos usar el link del formato \"RAW\" que es en formato .json"
      ],
      "metadata": {
        "id": "8CmjqgGzuZUU"
      }
    },
    {
      "cell_type": "markdown",
      "source": [
        "posterior a traer el archivo usaremos la libreria con el metodo read_csv para la visualizacion de la tabla."
      ],
      "metadata": {
        "id": "YMeNx_reu0da"
      }
    },
    {
      "cell_type": "code",
      "source": [
        "tienda2 = pd.read_csv(url2)"
      ],
      "metadata": {
        "id": "YhUX0IvxtWbb"
      },
      "execution_count": 2,
      "outputs": []
    },
    {
      "cell_type": "code",
      "source": [
        "tienda1 = pd.read_csv(url)"
      ],
      "metadata": {
        "id": "K1n3VHXmzoxC"
      },
      "execution_count": 3,
      "outputs": []
    },
    {
      "cell_type": "markdown",
      "source": [
        "Hacemos lo mismo para el resto de la informacion."
      ],
      "metadata": {
        "id": "-uXHYF1evvDg"
      }
    },
    {
      "cell_type": "code",
      "source": [
        "url3 = \"https://raw.githubusercontent.com/alura-es-cursos/challenge1-data-science-latam/refs/heads/main/base-de-datos-challenge1-latam/tienda_3.csv\"\n",
        "url4 = \"https://raw.githubusercontent.com/alura-es-cursos/challenge1-data-science-latam/refs/heads/main/base-de-datos-challenge1-latam/tienda_4.csv\"\n",
        "\n",
        "tienda_3 = pd.read_csv(url3)\n",
        "tienda_4 = pd.read_csv(url4)\n"
      ],
      "metadata": {
        "id": "STutX8VtuJ1T"
      },
      "execution_count": 4,
      "outputs": []
    },
    {
      "cell_type": "markdown",
      "source": [
        "# Inicio del analisis"
      ],
      "metadata": {
        "id": "-9bis-l1v476"
      }
    },
    {
      "cell_type": "code",
      "source": [
        "tienda_3"
      ],
      "metadata": {
        "colab": {
          "base_uri": "https://localhost:8080/",
          "height": 825
        },
        "id": "MoEqDh1v6CdW",
        "outputId": "4c8da4ae-1460-4ed4-dcaa-587be528911b"
      },
      "execution_count": 5,
      "outputs": [
        {
          "output_type": "execute_result",
          "data": {
            "text/plain": [
              "                     Producto  Categoría del Producto     Precio  \\\n",
              "0            Secadora de ropa       Electrodomésticos  1285100.0   \n",
              "1               Mesa de noche                 Muebles   290100.0   \n",
              "2           Guitarra acústica  Instrumentos musicales   303500.0   \n",
              "3           Balón de voleibol    Deportes y diversión    58800.0   \n",
              "4                     Armario                 Muebles   521100.0   \n",
              "...                       ...                     ...        ...   \n",
              "2354  Dashboards con Power BI                  Libros    26700.0   \n",
              "2355  Dashboards con Power BI                  Libros    31800.0   \n",
              "2356         Silla de oficina                 Muebles   477100.0   \n",
              "2357           Mesa de centro                 Muebles   123100.0   \n",
              "2358      Modelado predictivo                  Libros    63400.0   \n",
              "\n",
              "      Costo de envío Fecha de Compra         Vendedor Lugar de Compra  \\\n",
              "0            66600.0      17/12/2021    Camila Rivera     Santa Marta   \n",
              "1            13600.0      10/02/2021    Maria Alfonso            Cali   \n",
              "2            17400.0      22/01/2023    Lucas Olivera          Bogotá   \n",
              "3             3300.0      22/03/2022      Pedro Gomez    Barranquilla   \n",
              "4            25900.0      12/01/2022   Blanca Ramirez          Bogotá   \n",
              "...              ...             ...              ...             ...   \n",
              "2354          2100.0      21/10/2022  Ángel Rodriguez          Bogotá   \n",
              "2355          2200.0      23/06/2022   Blanca Ramirez         Pereira   \n",
              "2356         25600.0      19/02/2023    Camila Rivera       Cartagena   \n",
              "2357          4700.0      19/09/2021   Blanca Ramirez          Bogotá   \n",
              "2358          9400.0      24/05/2022  Mariana Herrera        Medellín   \n",
              "\n",
              "      Calificación      Método de pago  Cantidad de cuotas       lat       lon  \n",
              "0                4  Tarjeta de crédito                   4  11.24079 -74.19904  \n",
              "1                3  Tarjeta de crédito                   1   3.43722 -76.52250  \n",
              "2                5  Tarjeta de crédito                   3   4.60971 -74.08175  \n",
              "3                4  Tarjeta de crédito                   6  10.96854 -74.78132  \n",
              "4                1  Tarjeta de crédito                   1   4.60971 -74.08175  \n",
              "...            ...                 ...                 ...       ...       ...  \n",
              "2354             5  Tarjeta de crédito                   1   4.60971 -74.08175  \n",
              "2355             5  Tarjeta de crédito                   1   4.81333 -75.69611  \n",
              "2356             5  Tarjeta de crédito                   3  10.39972 -75.51444  \n",
              "2357             4  Tarjeta de crédito                   8   4.60971 -74.08175  \n",
              "2358             5  Tarjeta de crédito                  10   6.25184 -75.56359  \n",
              "\n",
              "[2359 rows x 12 columns]"
            ],
            "text/html": [
              "\n",
              "  <div id=\"df-a274e75f-5d90-4d28-93c4-7f90725d256d\" class=\"colab-df-container\">\n",
              "    <div>\n",
              "<style scoped>\n",
              "    .dataframe tbody tr th:only-of-type {\n",
              "        vertical-align: middle;\n",
              "    }\n",
              "\n",
              "    .dataframe tbody tr th {\n",
              "        vertical-align: top;\n",
              "    }\n",
              "\n",
              "    .dataframe thead th {\n",
              "        text-align: right;\n",
              "    }\n",
              "</style>\n",
              "<table border=\"1\" class=\"dataframe\">\n",
              "  <thead>\n",
              "    <tr style=\"text-align: right;\">\n",
              "      <th></th>\n",
              "      <th>Producto</th>\n",
              "      <th>Categoría del Producto</th>\n",
              "      <th>Precio</th>\n",
              "      <th>Costo de envío</th>\n",
              "      <th>Fecha de Compra</th>\n",
              "      <th>Vendedor</th>\n",
              "      <th>Lugar de Compra</th>\n",
              "      <th>Calificación</th>\n",
              "      <th>Método de pago</th>\n",
              "      <th>Cantidad de cuotas</th>\n",
              "      <th>lat</th>\n",
              "      <th>lon</th>\n",
              "    </tr>\n",
              "  </thead>\n",
              "  <tbody>\n",
              "    <tr>\n",
              "      <th>0</th>\n",
              "      <td>Secadora de ropa</td>\n",
              "      <td>Electrodomésticos</td>\n",
              "      <td>1285100.0</td>\n",
              "      <td>66600.0</td>\n",
              "      <td>17/12/2021</td>\n",
              "      <td>Camila Rivera</td>\n",
              "      <td>Santa Marta</td>\n",
              "      <td>4</td>\n",
              "      <td>Tarjeta de crédito</td>\n",
              "      <td>4</td>\n",
              "      <td>11.24079</td>\n",
              "      <td>-74.19904</td>\n",
              "    </tr>\n",
              "    <tr>\n",
              "      <th>1</th>\n",
              "      <td>Mesa de noche</td>\n",
              "      <td>Muebles</td>\n",
              "      <td>290100.0</td>\n",
              "      <td>13600.0</td>\n",
              "      <td>10/02/2021</td>\n",
              "      <td>Maria Alfonso</td>\n",
              "      <td>Cali</td>\n",
              "      <td>3</td>\n",
              "      <td>Tarjeta de crédito</td>\n",
              "      <td>1</td>\n",
              "      <td>3.43722</td>\n",
              "      <td>-76.52250</td>\n",
              "    </tr>\n",
              "    <tr>\n",
              "      <th>2</th>\n",
              "      <td>Guitarra acústica</td>\n",
              "      <td>Instrumentos musicales</td>\n",
              "      <td>303500.0</td>\n",
              "      <td>17400.0</td>\n",
              "      <td>22/01/2023</td>\n",
              "      <td>Lucas Olivera</td>\n",
              "      <td>Bogotá</td>\n",
              "      <td>5</td>\n",
              "      <td>Tarjeta de crédito</td>\n",
              "      <td>3</td>\n",
              "      <td>4.60971</td>\n",
              "      <td>-74.08175</td>\n",
              "    </tr>\n",
              "    <tr>\n",
              "      <th>3</th>\n",
              "      <td>Balón de voleibol</td>\n",
              "      <td>Deportes y diversión</td>\n",
              "      <td>58800.0</td>\n",
              "      <td>3300.0</td>\n",
              "      <td>22/03/2022</td>\n",
              "      <td>Pedro Gomez</td>\n",
              "      <td>Barranquilla</td>\n",
              "      <td>4</td>\n",
              "      <td>Tarjeta de crédito</td>\n",
              "      <td>6</td>\n",
              "      <td>10.96854</td>\n",
              "      <td>-74.78132</td>\n",
              "    </tr>\n",
              "    <tr>\n",
              "      <th>4</th>\n",
              "      <td>Armario</td>\n",
              "      <td>Muebles</td>\n",
              "      <td>521100.0</td>\n",
              "      <td>25900.0</td>\n",
              "      <td>12/01/2022</td>\n",
              "      <td>Blanca Ramirez</td>\n",
              "      <td>Bogotá</td>\n",
              "      <td>1</td>\n",
              "      <td>Tarjeta de crédito</td>\n",
              "      <td>1</td>\n",
              "      <td>4.60971</td>\n",
              "      <td>-74.08175</td>\n",
              "    </tr>\n",
              "    <tr>\n",
              "      <th>...</th>\n",
              "      <td>...</td>\n",
              "      <td>...</td>\n",
              "      <td>...</td>\n",
              "      <td>...</td>\n",
              "      <td>...</td>\n",
              "      <td>...</td>\n",
              "      <td>...</td>\n",
              "      <td>...</td>\n",
              "      <td>...</td>\n",
              "      <td>...</td>\n",
              "      <td>...</td>\n",
              "      <td>...</td>\n",
              "    </tr>\n",
              "    <tr>\n",
              "      <th>2354</th>\n",
              "      <td>Dashboards con Power BI</td>\n",
              "      <td>Libros</td>\n",
              "      <td>26700.0</td>\n",
              "      <td>2100.0</td>\n",
              "      <td>21/10/2022</td>\n",
              "      <td>Ángel Rodriguez</td>\n",
              "      <td>Bogotá</td>\n",
              "      <td>5</td>\n",
              "      <td>Tarjeta de crédito</td>\n",
              "      <td>1</td>\n",
              "      <td>4.60971</td>\n",
              "      <td>-74.08175</td>\n",
              "    </tr>\n",
              "    <tr>\n",
              "      <th>2355</th>\n",
              "      <td>Dashboards con Power BI</td>\n",
              "      <td>Libros</td>\n",
              "      <td>31800.0</td>\n",
              "      <td>2200.0</td>\n",
              "      <td>23/06/2022</td>\n",
              "      <td>Blanca Ramirez</td>\n",
              "      <td>Pereira</td>\n",
              "      <td>5</td>\n",
              "      <td>Tarjeta de crédito</td>\n",
              "      <td>1</td>\n",
              "      <td>4.81333</td>\n",
              "      <td>-75.69611</td>\n",
              "    </tr>\n",
              "    <tr>\n",
              "      <th>2356</th>\n",
              "      <td>Silla de oficina</td>\n",
              "      <td>Muebles</td>\n",
              "      <td>477100.0</td>\n",
              "      <td>25600.0</td>\n",
              "      <td>19/02/2023</td>\n",
              "      <td>Camila Rivera</td>\n",
              "      <td>Cartagena</td>\n",
              "      <td>5</td>\n",
              "      <td>Tarjeta de crédito</td>\n",
              "      <td>3</td>\n",
              "      <td>10.39972</td>\n",
              "      <td>-75.51444</td>\n",
              "    </tr>\n",
              "    <tr>\n",
              "      <th>2357</th>\n",
              "      <td>Mesa de centro</td>\n",
              "      <td>Muebles</td>\n",
              "      <td>123100.0</td>\n",
              "      <td>4700.0</td>\n",
              "      <td>19/09/2021</td>\n",
              "      <td>Blanca Ramirez</td>\n",
              "      <td>Bogotá</td>\n",
              "      <td>4</td>\n",
              "      <td>Tarjeta de crédito</td>\n",
              "      <td>8</td>\n",
              "      <td>4.60971</td>\n",
              "      <td>-74.08175</td>\n",
              "    </tr>\n",
              "    <tr>\n",
              "      <th>2358</th>\n",
              "      <td>Modelado predictivo</td>\n",
              "      <td>Libros</td>\n",
              "      <td>63400.0</td>\n",
              "      <td>9400.0</td>\n",
              "      <td>24/05/2022</td>\n",
              "      <td>Mariana Herrera</td>\n",
              "      <td>Medellín</td>\n",
              "      <td>5</td>\n",
              "      <td>Tarjeta de crédito</td>\n",
              "      <td>10</td>\n",
              "      <td>6.25184</td>\n",
              "      <td>-75.56359</td>\n",
              "    </tr>\n",
              "  </tbody>\n",
              "</table>\n",
              "<p>2359 rows × 12 columns</p>\n",
              "</div>\n",
              "    <div class=\"colab-df-buttons\">\n",
              "\n",
              "  <div class=\"colab-df-container\">\n",
              "    <button class=\"colab-df-convert\" onclick=\"convertToInteractive('df-a274e75f-5d90-4d28-93c4-7f90725d256d')\"\n",
              "            title=\"Convert this dataframe to an interactive table.\"\n",
              "            style=\"display:none;\">\n",
              "\n",
              "  <svg xmlns=\"http://www.w3.org/2000/svg\" height=\"24px\" viewBox=\"0 -960 960 960\">\n",
              "    <path d=\"M120-120v-720h720v720H120Zm60-500h600v-160H180v160Zm220 220h160v-160H400v160Zm0 220h160v-160H400v160ZM180-400h160v-160H180v160Zm440 0h160v-160H620v160ZM180-180h160v-160H180v160Zm440 0h160v-160H620v160Z\"/>\n",
              "  </svg>\n",
              "    </button>\n",
              "\n",
              "  <style>\n",
              "    .colab-df-container {\n",
              "      display:flex;\n",
              "      gap: 12px;\n",
              "    }\n",
              "\n",
              "    .colab-df-convert {\n",
              "      background-color: #E8F0FE;\n",
              "      border: none;\n",
              "      border-radius: 50%;\n",
              "      cursor: pointer;\n",
              "      display: none;\n",
              "      fill: #1967D2;\n",
              "      height: 32px;\n",
              "      padding: 0 0 0 0;\n",
              "      width: 32px;\n",
              "    }\n",
              "\n",
              "    .colab-df-convert:hover {\n",
              "      background-color: #E2EBFA;\n",
              "      box-shadow: 0px 1px 2px rgba(60, 64, 67, 0.3), 0px 1px 3px 1px rgba(60, 64, 67, 0.15);\n",
              "      fill: #174EA6;\n",
              "    }\n",
              "\n",
              "    .colab-df-buttons div {\n",
              "      margin-bottom: 4px;\n",
              "    }\n",
              "\n",
              "    [theme=dark] .colab-df-convert {\n",
              "      background-color: #3B4455;\n",
              "      fill: #D2E3FC;\n",
              "    }\n",
              "\n",
              "    [theme=dark] .colab-df-convert:hover {\n",
              "      background-color: #434B5C;\n",
              "      box-shadow: 0px 1px 3px 1px rgba(0, 0, 0, 0.15);\n",
              "      filter: drop-shadow(0px 1px 2px rgba(0, 0, 0, 0.3));\n",
              "      fill: #FFFFFF;\n",
              "    }\n",
              "  </style>\n",
              "\n",
              "    <script>\n",
              "      const buttonEl =\n",
              "        document.querySelector('#df-a274e75f-5d90-4d28-93c4-7f90725d256d button.colab-df-convert');\n",
              "      buttonEl.style.display =\n",
              "        google.colab.kernel.accessAllowed ? 'block' : 'none';\n",
              "\n",
              "      async function convertToInteractive(key) {\n",
              "        const element = document.querySelector('#df-a274e75f-5d90-4d28-93c4-7f90725d256d');\n",
              "        const dataTable =\n",
              "          await google.colab.kernel.invokeFunction('convertToInteractive',\n",
              "                                                    [key], {});\n",
              "        if (!dataTable) return;\n",
              "\n",
              "        const docLinkHtml = 'Like what you see? Visit the ' +\n",
              "          '<a target=\"_blank\" href=https://colab.research.google.com/notebooks/data_table.ipynb>data table notebook</a>'\n",
              "          + ' to learn more about interactive tables.';\n",
              "        element.innerHTML = '';\n",
              "        dataTable['output_type'] = 'display_data';\n",
              "        await google.colab.output.renderOutput(dataTable, element);\n",
              "        const docLink = document.createElement('div');\n",
              "        docLink.innerHTML = docLinkHtml;\n",
              "        element.appendChild(docLink);\n",
              "      }\n",
              "    </script>\n",
              "  </div>\n",
              "\n",
              "\n",
              "    <div id=\"df-6ba9dc83-03ee-4209-a677-af3a1a3b1c0e\">\n",
              "      <button class=\"colab-df-quickchart\" onclick=\"quickchart('df-6ba9dc83-03ee-4209-a677-af3a1a3b1c0e')\"\n",
              "                title=\"Suggest charts\"\n",
              "                style=\"display:none;\">\n",
              "\n",
              "<svg xmlns=\"http://www.w3.org/2000/svg\" height=\"24px\"viewBox=\"0 0 24 24\"\n",
              "     width=\"24px\">\n",
              "    <g>\n",
              "        <path d=\"M19 3H5c-1.1 0-2 .9-2 2v14c0 1.1.9 2 2 2h14c1.1 0 2-.9 2-2V5c0-1.1-.9-2-2-2zM9 17H7v-7h2v7zm4 0h-2V7h2v10zm4 0h-2v-4h2v4z\"/>\n",
              "    </g>\n",
              "</svg>\n",
              "      </button>\n",
              "\n",
              "<style>\n",
              "  .colab-df-quickchart {\n",
              "      --bg-color: #E8F0FE;\n",
              "      --fill-color: #1967D2;\n",
              "      --hover-bg-color: #E2EBFA;\n",
              "      --hover-fill-color: #174EA6;\n",
              "      --disabled-fill-color: #AAA;\n",
              "      --disabled-bg-color: #DDD;\n",
              "  }\n",
              "\n",
              "  [theme=dark] .colab-df-quickchart {\n",
              "      --bg-color: #3B4455;\n",
              "      --fill-color: #D2E3FC;\n",
              "      --hover-bg-color: #434B5C;\n",
              "      --hover-fill-color: #FFFFFF;\n",
              "      --disabled-bg-color: #3B4455;\n",
              "      --disabled-fill-color: #666;\n",
              "  }\n",
              "\n",
              "  .colab-df-quickchart {\n",
              "    background-color: var(--bg-color);\n",
              "    border: none;\n",
              "    border-radius: 50%;\n",
              "    cursor: pointer;\n",
              "    display: none;\n",
              "    fill: var(--fill-color);\n",
              "    height: 32px;\n",
              "    padding: 0;\n",
              "    width: 32px;\n",
              "  }\n",
              "\n",
              "  .colab-df-quickchart:hover {\n",
              "    background-color: var(--hover-bg-color);\n",
              "    box-shadow: 0 1px 2px rgba(60, 64, 67, 0.3), 0 1px 3px 1px rgba(60, 64, 67, 0.15);\n",
              "    fill: var(--button-hover-fill-color);\n",
              "  }\n",
              "\n",
              "  .colab-df-quickchart-complete:disabled,\n",
              "  .colab-df-quickchart-complete:disabled:hover {\n",
              "    background-color: var(--disabled-bg-color);\n",
              "    fill: var(--disabled-fill-color);\n",
              "    box-shadow: none;\n",
              "  }\n",
              "\n",
              "  .colab-df-spinner {\n",
              "    border: 2px solid var(--fill-color);\n",
              "    border-color: transparent;\n",
              "    border-bottom-color: var(--fill-color);\n",
              "    animation:\n",
              "      spin 1s steps(1) infinite;\n",
              "  }\n",
              "\n",
              "  @keyframes spin {\n",
              "    0% {\n",
              "      border-color: transparent;\n",
              "      border-bottom-color: var(--fill-color);\n",
              "      border-left-color: var(--fill-color);\n",
              "    }\n",
              "    20% {\n",
              "      border-color: transparent;\n",
              "      border-left-color: var(--fill-color);\n",
              "      border-top-color: var(--fill-color);\n",
              "    }\n",
              "    30% {\n",
              "      border-color: transparent;\n",
              "      border-left-color: var(--fill-color);\n",
              "      border-top-color: var(--fill-color);\n",
              "      border-right-color: var(--fill-color);\n",
              "    }\n",
              "    40% {\n",
              "      border-color: transparent;\n",
              "      border-right-color: var(--fill-color);\n",
              "      border-top-color: var(--fill-color);\n",
              "    }\n",
              "    60% {\n",
              "      border-color: transparent;\n",
              "      border-right-color: var(--fill-color);\n",
              "    }\n",
              "    80% {\n",
              "      border-color: transparent;\n",
              "      border-right-color: var(--fill-color);\n",
              "      border-bottom-color: var(--fill-color);\n",
              "    }\n",
              "    90% {\n",
              "      border-color: transparent;\n",
              "      border-bottom-color: var(--fill-color);\n",
              "    }\n",
              "  }\n",
              "</style>\n",
              "\n",
              "      <script>\n",
              "        async function quickchart(key) {\n",
              "          const quickchartButtonEl =\n",
              "            document.querySelector('#' + key + ' button');\n",
              "          quickchartButtonEl.disabled = true;  // To prevent multiple clicks.\n",
              "          quickchartButtonEl.classList.add('colab-df-spinner');\n",
              "          try {\n",
              "            const charts = await google.colab.kernel.invokeFunction(\n",
              "                'suggestCharts', [key], {});\n",
              "          } catch (error) {\n",
              "            console.error('Error during call to suggestCharts:', error);\n",
              "          }\n",
              "          quickchartButtonEl.classList.remove('colab-df-spinner');\n",
              "          quickchartButtonEl.classList.add('colab-df-quickchart-complete');\n",
              "        }\n",
              "        (() => {\n",
              "          let quickchartButtonEl =\n",
              "            document.querySelector('#df-6ba9dc83-03ee-4209-a677-af3a1a3b1c0e button');\n",
              "          quickchartButtonEl.style.display =\n",
              "            google.colab.kernel.accessAllowed ? 'block' : 'none';\n",
              "        })();\n",
              "      </script>\n",
              "    </div>\n",
              "\n",
              "  <div id=\"id_8ae3b4e9-7ab8-4c85-97d9-09a304aa3d20\">\n",
              "    <style>\n",
              "      .colab-df-generate {\n",
              "        background-color: #E8F0FE;\n",
              "        border: none;\n",
              "        border-radius: 50%;\n",
              "        cursor: pointer;\n",
              "        display: none;\n",
              "        fill: #1967D2;\n",
              "        height: 32px;\n",
              "        padding: 0 0 0 0;\n",
              "        width: 32px;\n",
              "      }\n",
              "\n",
              "      .colab-df-generate:hover {\n",
              "        background-color: #E2EBFA;\n",
              "        box-shadow: 0px 1px 2px rgba(60, 64, 67, 0.3), 0px 1px 3px 1px rgba(60, 64, 67, 0.15);\n",
              "        fill: #174EA6;\n",
              "      }\n",
              "\n",
              "      [theme=dark] .colab-df-generate {\n",
              "        background-color: #3B4455;\n",
              "        fill: #D2E3FC;\n",
              "      }\n",
              "\n",
              "      [theme=dark] .colab-df-generate:hover {\n",
              "        background-color: #434B5C;\n",
              "        box-shadow: 0px 1px 3px 1px rgba(0, 0, 0, 0.15);\n",
              "        filter: drop-shadow(0px 1px 2px rgba(0, 0, 0, 0.3));\n",
              "        fill: #FFFFFF;\n",
              "      }\n",
              "    </style>\n",
              "    <button class=\"colab-df-generate\" onclick=\"generateWithVariable('tienda_3')\"\n",
              "            title=\"Generate code using this dataframe.\"\n",
              "            style=\"display:none;\">\n",
              "\n",
              "  <svg xmlns=\"http://www.w3.org/2000/svg\" height=\"24px\"viewBox=\"0 0 24 24\"\n",
              "       width=\"24px\">\n",
              "    <path d=\"M7,19H8.4L18.45,9,17,7.55,7,17.6ZM5,21V16.75L18.45,3.32a2,2,0,0,1,2.83,0l1.4,1.43a1.91,1.91,0,0,1,.58,1.4,1.91,1.91,0,0,1-.58,1.4L9.25,21ZM18.45,9,17,7.55Zm-12,3A5.31,5.31,0,0,0,4.9,8.1,5.31,5.31,0,0,0,1,6.5,5.31,5.31,0,0,0,4.9,4.9,5.31,5.31,0,0,0,6.5,1,5.31,5.31,0,0,0,8.1,4.9,5.31,5.31,0,0,0,12,6.5,5.46,5.46,0,0,0,6.5,12Z\"/>\n",
              "  </svg>\n",
              "    </button>\n",
              "    <script>\n",
              "      (() => {\n",
              "      const buttonEl =\n",
              "        document.querySelector('#id_8ae3b4e9-7ab8-4c85-97d9-09a304aa3d20 button.colab-df-generate');\n",
              "      buttonEl.style.display =\n",
              "        google.colab.kernel.accessAllowed ? 'block' : 'none';\n",
              "\n",
              "      buttonEl.onclick = () => {\n",
              "        google.colab.notebook.generateWithVariable('tienda_3');\n",
              "      }\n",
              "      })();\n",
              "    </script>\n",
              "  </div>\n",
              "\n",
              "    </div>\n",
              "  </div>\n"
            ],
            "application/vnd.google.colaboratory.intrinsic+json": {
              "type": "dataframe",
              "variable_name": "tienda_3",
              "summary": "{\n  \"name\": \"tienda_3\",\n  \"rows\": 2359,\n  \"fields\": [\n    {\n      \"column\": \"Producto\",\n      \"properties\": {\n        \"dtype\": \"category\",\n        \"num_unique_values\": 51,\n        \"samples\": [\n          \"Sof\\u00e1 reclinable\",\n          \"Juego de mesa\",\n          \"Vaso t\\u00e9rmico\"\n        ],\n        \"semantic_type\": \"\",\n        \"description\": \"\"\n      }\n    },\n    {\n      \"column\": \"Categor\\u00eda del Producto\",\n      \"properties\": {\n        \"dtype\": \"category\",\n        \"num_unique_values\": 8,\n        \"samples\": [\n          \"Muebles\",\n          \"Juguetes\",\n          \"Electrodom\\u00e9sticos\"\n        ],\n        \"semantic_type\": \"\",\n        \"description\": \"\"\n      }\n    },\n    {\n      \"column\": \"Precio\",\n      \"properties\": {\n        \"dtype\": \"number\",\n        \"std\": 580643.391372138,\n        \"min\": 7600.0,\n        \"max\": 2968200.0,\n        \"num_unique_values\": 1946,\n        \"samples\": [\n          189400.0,\n          1454800.0,\n          1116100.0\n        ],\n        \"semantic_type\": \"\",\n        \"description\": \"\"\n      }\n    },\n    {\n      \"column\": \"Costo de env\\u00edo\",\n      \"properties\": {\n        \"dtype\": \"number\",\n        \"std\": 30945.889626378834,\n        \"min\": 0.0,\n        \"max\": 158400.0,\n        \"num_unique_values\": 737,\n        \"samples\": [\n          119800.0,\n          1400.0,\n          76500.0\n        ],\n        \"semantic_type\": \"\",\n        \"description\": \"\"\n      }\n    },\n    {\n      \"column\": \"Fecha de Compra\",\n      \"properties\": {\n        \"dtype\": \"object\",\n        \"num_unique_values\": 1024,\n        \"samples\": [\n          \"04/06/2020\",\n          \"28/03/2023\",\n          \"29/05/2022\"\n        ],\n        \"semantic_type\": \"\",\n        \"description\": \"\"\n      }\n    },\n    {\n      \"column\": \"Vendedor\",\n      \"properties\": {\n        \"dtype\": \"category\",\n        \"num_unique_values\": 14,\n        \"samples\": [\n          \"Beatriz Morales\",\n          \"Rafael Acosta\",\n          \"Camila Rivera\"\n        ],\n        \"semantic_type\": \"\",\n        \"description\": \"\"\n      }\n    },\n    {\n      \"column\": \"Lugar de Compra\",\n      \"properties\": {\n        \"dtype\": \"category\",\n        \"num_unique_values\": 19,\n        \"samples\": [\n          \"Santa Marta\",\n          \"Neiva\",\n          \"Pasto\"\n        ],\n        \"semantic_type\": \"\",\n        \"description\": \"\"\n      }\n    },\n    {\n      \"column\": \"Calificaci\\u00f3n\",\n      \"properties\": {\n        \"dtype\": \"number\",\n        \"std\": 1,\n        \"min\": 1,\n        \"max\": 5,\n        \"num_unique_values\": 5,\n        \"samples\": [\n          3,\n          2,\n          5\n        ],\n        \"semantic_type\": \"\",\n        \"description\": \"\"\n      }\n    },\n    {\n      \"column\": \"M\\u00e9todo de pago\",\n      \"properties\": {\n        \"dtype\": \"category\",\n        \"num_unique_values\": 4,\n        \"samples\": [\n          \"Nequi\",\n          \"Tarjeta de d\\u00e9bito\",\n          \"Tarjeta de cr\\u00e9dito\"\n        ],\n        \"semantic_type\": \"\",\n        \"description\": \"\"\n      }\n    },\n    {\n      \"column\": \"Cantidad de cuotas\",\n      \"properties\": {\n        \"dtype\": \"number\",\n        \"std\": 2,\n        \"min\": 1,\n        \"max\": 24,\n        \"num_unique_values\": 17,\n        \"samples\": [\n          4,\n          1,\n          2\n        ],\n        \"semantic_type\": \"\",\n        \"description\": \"\"\n      }\n    },\n    {\n      \"column\": \"lat\",\n      \"properties\": {\n        \"dtype\": \"number\",\n        \"std\": 2.405271698638615,\n        \"min\": -4.21528,\n        \"max\": 11.54444,\n        \"num_unique_values\": 19,\n        \"samples\": [\n          11.24079,\n          2.9273,\n          1.21361\n        ],\n        \"semantic_type\": \"\",\n        \"description\": \"\"\n      }\n    },\n    {\n      \"column\": \"lon\",\n      \"properties\": {\n        \"dtype\": \"number\",\n        \"std\": 1.2245717632157704,\n        \"min\": -77.28111,\n        \"max\": -67.9239,\n        \"num_unique_values\": 19,\n        \"samples\": [\n          -74.19904,\n          -75.28189,\n          -77.28111\n        ],\n        \"semantic_type\": \"\",\n        \"description\": \"\"\n      }\n    }\n  ]\n}"
            }
          },
          "metadata": {},
          "execution_count": 5
        }
      ]
    },
    {
      "cell_type": "markdown",
      "source": [
        "#Analisis de las tiendas"
      ],
      "metadata": {
        "id": "fq5lqnG56NPz"
      }
    },
    {
      "cell_type": "markdown",
      "source": [
        "##Facturacion"
      ],
      "metadata": {
        "id": "8MnNlR9w6YjA"
      }
    },
    {
      "cell_type": "markdown",
      "source": [
        "como primer punto que nos dieron para tomar en cuenta en el analisis fue la facturacion total de cada tienda lo que para ello usamos la funcion sum() para la columna precio y asi ver cual es la tienda que menos y mas tiene ganacias."
      ],
      "metadata": {
        "id": "y-fy5qpTx5lB"
      }
    },
    {
      "cell_type": "code",
      "source": [
        "ingresoTotal_t1 = tienda1[\"Precio\"].sum()\n",
        "ingresoTotal_t1"
      ],
      "metadata": {
        "colab": {
          "base_uri": "https://localhost:8080/"
        },
        "id": "7Ta6jlV6vmUg",
        "outputId": "86f01d58-85a1-44cb-eb25-6cef8f8e77f9"
      },
      "execution_count": 36,
      "outputs": [
        {
          "output_type": "execute_result",
          "data": {
            "text/plain": [
              "np.float64(1150880400.0)"
            ]
          },
          "metadata": {},
          "execution_count": 36
        }
      ]
    },
    {
      "cell_type": "code",
      "source": [
        "ingresoTotal_t2 = tienda2[\"Precio\"].sum()\n",
        "ingresoTotal_t3 = tienda_3[\"Precio\"].sum()\n",
        "ingresoTotal_t4 = tienda_4[\"Precio\"].sum()"
      ],
      "metadata": {
        "id": "wJcH_RTSwEEe"
      },
      "execution_count": 34,
      "outputs": []
    },
    {
      "cell_type": "code",
      "source": [
        "print(\"el valor de la tienda 1 es: \",ingresoTotal_t1)\n",
        "print(\"el valor de la tienda 2 es: \",ingresoTotal_t2)\n",
        "print(\"el valor de la tienda 3 es: \",ingresoTotal_t3)\n",
        "print(\"el valor de la tienda 4 es: \",ingresoTotal_t4)\n"
      ],
      "metadata": {
        "colab": {
          "base_uri": "https://localhost:8080/"
        },
        "id": "DaH4qsoa6yCK",
        "outputId": "6e881558-5360-4609-eae5-7d399516094d"
      },
      "execution_count": 37,
      "outputs": [
        {
          "output_type": "stream",
          "name": "stdout",
          "text": [
            "el valor de la tienda 1 es:  1150880400.0\n",
            "el valor de la tienda 2 es:  1116343500.0\n",
            "el valor de la tienda 3 es:  1098019600.0\n",
            "el valor de la tienda 4 es:  1038375700.0\n"
          ]
        }
      ]
    },
    {
      "cell_type": "code",
      "source": [
        "import matplotlib.pyplot as plt\n",
        "plt.bar([\"tienda 1\",\"tienda 2\",\"tienda 3\",\"tienda 4\"],[ingresoTotal_t1,ingresoTotal_t2,ingresoTotal_t3,ingresoTotal_t4])"
      ],
      "metadata": {
        "colab": {
          "base_uri": "https://localhost:8080/"
        },
        "id": "q16EVyn48EBO",
        "outputId": "a8cd05e0-373e-40f7-a3e4-409c31ba4ef7",
        "collapsed": true
      },
      "execution_count": null,
      "outputs": [
        {
          "output_type": "execute_result",
          "data": {
            "text/plain": [
              "<BarContainer object of 4 artists>"
            ]
          },
          "metadata": {},
          "execution_count": 85
        },
        {
          "output_type": "display_data",
          "data": {
            "text/plain": [
              "<Figure size 640x480 with 1 Axes>"
            ],
            "image/png": "[encoded data removed]"
          },
          "metadata": {}
        }
      ]
    },
    {
      "cell_type": "markdown",
      "source": [
        "con la libreria matplotlib podemos mostrar el mismo resultado con la grafica de barras (.bar) podemos ver graficanmente que la tienda 4 es la que menor factura"
      ],
      "metadata": {
        "id": "2LRKvmm98nFB"
      }
    },
    {
      "cell_type": "markdown",
      "source": [
        "## Venta por categorias"
      ],
      "metadata": {
        "id": "VNvU5syM9U9E"
      }
    },
    {
      "cell_type": "code",
      "source": [
        "categoria = list(set(tienda1[\"Categoría del Producto\"]))\n",
        "categoria"
      ],
      "metadata": {
        "colab": {
          "base_uri": "https://localhost:8080/"
        },
        "id": "-xJ8NWPc9Uq7",
        "outputId": "05c7c7ea-4fea-443e-a21d-8b284282fb5f"
      },
      "execution_count": null,
      "outputs": [
        {
          "output_type": "execute_result",
          "data": {
            "text/plain": [
              "['Deportes y diversión',\n",
              " 'Instrumentos musicales',\n",
              " 'Muebles',\n",
              " 'Libros',\n",
              " 'Electrodomésticos',\n",
              " 'Juguetes',\n",
              " 'Artículos para el hogar',\n",
              " 'Electrónicos']"
            ]
          },
          "metadata": {},
          "execution_count": 86
        }
      ]
    },
    {
      "cell_type": "markdown",
      "source": [
        "debemos convertir la columna que usaremos para contar registros a una list ya que de no ser asi no sera compatible para la funcion count"
      ],
      "metadata": {
        "id": "FBLhq_4N2Vv6"
      }
    },
    {
      "cell_type": "code",
      "source": [
        "registrosCat = list(tienda1['Categoría del Producto'])"
      ],
      "metadata": {
        "id": "6s4Qz3fdxQrT"
      },
      "execution_count": null,
      "outputs": []
    },
    {
      "cell_type": "code",
      "source": [
        "\n",
        "mueble = registrosCat.count(categoria[0])\n",
        "instrumentosMusicales = registrosCat.count(categoria[1])\n",
        "deportes = registrosCat.count(categoria[2])\n",
        "juguetes = registrosCat.count(categoria[3])\n",
        "libros = registrosCat.count(categoria[4])\n",
        "eletrodomesticos = registrosCat.count(categoria[5])\n",
        "articulosHogar = registrosCat.count(categoria[6])\n",
        "Electronicos = registrosCat.count(categoria[7])"
      ],
      "metadata": {
        "id": "U3GXkmdZIWaC"
      },
      "execution_count": null,
      "outputs": []
    },
    {
      "cell_type": "code",
      "source": [
        "print(\"los registros de muebles son: \",mueble)\n",
        "print(\"los registros de instrumentos musicales son: \",instrumentosMusicales)\n",
        "print(\"los registros de deportes son: \",deportes)\n",
        "print(\"los registros de juguetes son: \",juguetes)\n",
        "print(\"los registros de libros son: \",libros)\n",
        "print(\"los registros de eletrodomesticos son: \",eletrodomesticos)\n",
        "print(\"los registros de articulos de hogar son: \",articulosHogar)\n",
        "print(\"los registros de electronicos son: \",Electronicos)\n",
        "\n",
        "total2 = sum([mueble,instrumentosMusicales,deportes,juguetes,libros,eletrodomesticos,articulosHogar,Electronicos])\n",
        "print(\"el total de registros es: \",total2)\n",
        "\n",
        "tregistros = len(registrosCat)\n",
        "print(\"el total de registros es: \",tregistros)\n"
      ],
      "metadata": {
        "colab": {
          "base_uri": "https://localhost:8080/"
        },
        "id": "weci8sMO3Fbz",
        "outputId": "c99b3b30-dcaf-4d96-e287-d2d6160fad5e"
      },
      "execution_count": null,
      "outputs": [
        {
          "output_type": "stream",
          "name": "stdout",
          "text": [
            "los registros de muebles son:  284\n",
            "los registros de instrumentos musicales son:  182\n",
            "los registros de deportes son:  465\n",
            "los registros de juguetes son:  173\n",
            "los registros de libros son:  312\n",
            "los registros de eletrodomesticos son:  324\n",
            "los registros de articulos de hogar son:  171\n",
            "los registros de electronicos son:  448\n",
            "el total de registros es:  2359\n",
            "el total de registros es:  2359\n"
          ]
        }
      ]
    },
    {
      "cell_type": "code",
      "source": [
        "prodvendostienda2 = len(tienda2)\n",
        "prodvendostienda3 = len(tienda_3)\n",
        "prodvendostienda4 = len(tienda_4)\n",
        "print(prodvendostienda2)\n",
        "print(prodvendostienda3)\n",
        "print(prodvendostienda4)"
      ],
      "metadata": {
        "colab": {
          "base_uri": "https://localhost:8080/"
        },
        "id": "Yjpo6qwu57Li",
        "outputId": "3e57f2c2-583e-4cc1-8ffd-445813adfcab"
      },
      "execution_count": null,
      "outputs": [
        {
          "output_type": "stream",
          "name": "stdout",
          "text": [
            "2359\n",
            "2359\n",
            "2358\n"
          ]
        }
      ]
    },
    {
      "cell_type": "markdown",
      "source": [
        "# productos mas y menos vendidos"
      ],
      "metadata": {
        "id": "EovVG_-w5DdS"
      }
    },
    {
      "cell_type": "code",
      "source": [
        "producto = list(set(tienda1[\"Producto\"]))\n",
        "producto"
      ],
      "metadata": {
        "colab": {
          "base_uri": "https://localhost:8080/"
        },
        "collapsed": true,
        "id": "gpmYIg1G5AUi",
        "outputId": "49b061ba-10aa-432d-d18e-dcf7800b1b33"
      },
      "execution_count": null,
      "outputs": [
        {
          "output_type": "execute_result",
          "data": {
            "text/plain": [
              "['Mesa de comedor',\n",
              " 'Ciencia de datos con Python',\n",
              " 'Lavavajillas',\n",
              " 'Balón de voleibol',\n",
              " 'Cuerda para saltar',\n",
              " 'Iniciando en programación',\n",
              " 'Carrito de control remoto',\n",
              " 'Dashboards con Power BI',\n",
              " 'Tablet ABXY',\n",
              " 'Cubertería',\n",
              " 'Kit de bancas',\n",
              " 'Mesa de centro',\n",
              " 'Cama box',\n",
              " 'Celular ABXY',\n",
              " 'Batería',\n",
              " 'Iphone 15',\n",
              " 'Pandereta',\n",
              " 'Juego de mesa',\n",
              " 'Muñeca bebé',\n",
              " 'Bicicleta',\n",
              " 'Vaso térmico',\n",
              " 'TV LED UHD 4K',\n",
              " 'Smartwatch',\n",
              " 'Impresora',\n",
              " 'Refrigerador',\n",
              " 'Cubo mágico 8x8',\n",
              " 'Set de vasos',\n",
              " 'Bloques de construcción',\n",
              " 'Ajedrez de madera',\n",
              " 'Asistente virtual',\n",
              " 'Microondas',\n",
              " 'Modelado predictivo',\n",
              " 'Sillón',\n",
              " 'Balón de baloncesto',\n",
              " 'Estufa',\n",
              " 'Olla de presión',\n",
              " 'Secadora de ropa',\n",
              " 'Guitarra acústica',\n",
              " 'Sofá reclinable',\n",
              " 'Guitarra eléctrica',\n",
              " 'Armario',\n",
              " 'Set de ollas',\n",
              " 'Dinosaurio Rex',\n",
              " 'Mochila',\n",
              " 'Cama king',\n",
              " 'Auriculares',\n",
              " 'Smart TV',\n",
              " 'Silla de oficina',\n",
              " 'Auriculares con micrófono',\n",
              " 'Lavadora de ropa',\n",
              " 'Mesa de noche']"
            ]
          },
          "metadata": {},
          "execution_count": 66
        }
      ]
    },
    {
      "cell_type": "code",
      "source": [
        "from typing import Counter\n",
        "listaProductos = list(tienda1['Producto'])\n",
        "rankprod = dict(Counter(listaProductos))\n",
        "rankprod = sorted(rankprod.items(), key=lambda x: x[1], reverse=True)\n",
        "df = pd.DataFrame(rankprod, columns = ['Producto', 'Cantidad'])\n",
        "print(df.head(5))\n",
        "print(df.tail(5))\n",
        "\n"
      ],
      "metadata": {
        "colab": {
          "base_uri": "https://localhost:8080/"
        },
        "id": "bDH6RrPn688J",
        "outputId": "78121993-c789-4c7c-b251-d7dbb631c520"
      },
      "execution_count": null,
      "outputs": [
        {
          "output_type": "stream",
          "name": "stdout",
          "text": [
            "                  Producto  Cantidad\n",
            "0               Microondas        60\n",
            "1            TV LED UHD 4K        60\n",
            "2                  Armario        60\n",
            "3         Secadora de ropa        58\n",
            "4  Bloques de construcción        56\n",
            "                     Producto  Cantidad\n",
            "46                    Mochila        39\n",
            "47                  Pandereta        36\n",
            "48            Olla de presión        35\n",
            "49  Auriculares con micrófono        33\n",
            "50               Celular ABXY        33\n"
          ]
        }
      ]
    },
    {
      "cell_type": "markdown",
      "source": [
        "#Valoracion de la tienda"
      ],
      "metadata": {
        "id": "urBJUpqv_NRT"
      }
    },
    {
      "cell_type": "code",
      "source": [
        "prmedioT1 = tienda1['Calificación'].mean()\n",
        "pmedioT2 = tienda2[\"Calificación\"].mean()\n",
        "pmedioT3 = tienda_3[\"Calificación\"].mean()\n",
        "pmedioT4 = tienda_4[\"Calificación\"].mean()\n",
        "\n",
        "print(\"el promedio de la tienda 1 es: \",prmedioT1)\n",
        "print(\"el promedio de la tienda 2 es: \",pmedioT2)\n",
        "print(\"el promedio de la tienda 3 es: \",pmedioT3)\n",
        "print(\"el promedio de la tienda 4 es: \",pmedioT4)"
      ],
      "metadata": {
        "colab": {
          "base_uri": "https://localhost:8080/"
        },
        "id": "m2Hx9bku_Q-2",
        "outputId": "a5abc499-7b57-473b-a5d1-12b067c80541"
      },
      "execution_count": 45,
      "outputs": [
        {
          "output_type": "stream",
          "name": "stdout",
          "text": [
            "el promedio de la tienda 1 es:  3.976685036032217\n",
            "el promedio de la tienda 2 es:  4.037303942348453\n",
            "el promedio de la tienda 3 es:  4.048325561678677\n",
            "el promedio de la tienda 4 es:  3.9957591178965224\n"
          ]
        }
      ]
    },
    {
      "cell_type": "markdown",
      "source": [
        "# valoracion de Costo Promedio"
      ],
      "metadata": {
        "id": "K2mivdTniiyI"
      }
    },
    {
      "cell_type": "code",
      "source": [
        "from typing import Counter\n",
        "\n",
        "\n",
        "listCostEnvio = list(tienda1[\"Costo de envío\"])\n",
        "\n",
        "rankcost = dict(Counter(listCostEnvio))\n",
        "rankcost = sorted(rankcost.items(), key=lambda x: x[1], reverse=True)\n",
        "df = pd.DataFrame(rankcost, columns = ['Producto', 'Cantidad'])\n",
        "print(df.head(5))\n",
        "print(df.tail(5))\n"
      ],
      "metadata": {
        "colab": {
          "base_uri": "https://localhost:8080/"
        },
        "collapsed": true,
        "id": "qAxwcT-Cil0L",
        "outputId": "7b96508b-84cd-486e-d2f0-e8a2d1337ef8"
      },
      "execution_count": 6,
      "outputs": [
        {
          "output_type": "stream",
          "name": "stdout",
          "text": [
            "   Producto  Cantidad\n",
            "0       0.0       209\n",
            "1    3300.0        22\n",
            "2    1600.0        21\n",
            "3    2500.0        20\n",
            "4    3700.0        20\n",
            "     Producto  Cantidad\n",
            "748   76800.0         1\n",
            "749  125600.0         1\n",
            "750   70400.0         1\n",
            "751   71900.0         1\n",
            "752   66600.0         1\n"
          ]
        }
      ]
    },
    {
      "cell_type": "code",
      "source": [
        "listCostEnvio = list(tienda1[\"Costo de envío\"])\n",
        "\n",
        "'promcostenvios = sum(listCostEnvio)/len(listCostEnvio)'\n",
        "\n",
        "promcostenvios1 = tienda1[\"Costo de envío\"].mean()\n",
        "print(\"el costo promedio de la tienda 1 es:\", promcostenvios1)\n",
        "\n",
        "promcostenvios2 = tienda2[\"Costo de envío\"].mean()\n",
        "print(\"el costo promedio de la tienda 2 es:\", promcostenvios2)\n",
        "\n",
        "promcostenvios3 = tienda_3[\"Costo de envío\"].mean()\n",
        "print(\"el costo promedio de la tienda 3 es:\", promcostenvios3)\n",
        "\n",
        "promcostenvios4 = tienda_4[\"Costo de envío\"].mean()\n",
        "print(\"el costo promedio de la tienda 4 es:\", promcostenvios4)\n",
        "\n"
      ],
      "metadata": {
        "colab": {
          "base_uri": "https://localhost:8080/"
        },
        "id": "TeBRET02lKzR",
        "outputId": "c57ae352-a48b-45ab-85f2-3647a8cfec4f"
      },
      "execution_count": 15,
      "outputs": [
        {
          "output_type": "stream",
          "name": "stdout",
          "text": [
            "el costo promedio de la tienda 1 es: 26018.60958033065\n",
            "el costo promedio de la tienda 2 es: 25216.235693090293\n",
            "el costo promedio de la tienda 3 es: 24805.680373039424\n",
            "el costo promedio de la tienda 4 es: 23459.457167090754\n"
          ]
        }
      ]
    },
    {
      "cell_type": "markdown",
      "source": [
        "#Graficos"
      ],
      "metadata": {
        "id": "YLx2t4tfnQRG"
      }
    },
    {
      "cell_type": "code",
      "source": [
        "import matplotlib.pyplot as plt\n"
      ],
      "metadata": {
        "id": "B_KlBoopnPWj"
      },
      "execution_count": 16,
      "outputs": []
    },
    {
      "cell_type": "code",
      "source": [
        "from typing import Counter\n",
        "\n",
        "cat = list(tienda1['Categoría del Producto'])\n",
        "listcat = dict(Counter(cat))\n",
        "nomcat = listcat.keys()\n",
        "cantcat = listcat.values()\n",
        "\n",
        "plt.pie(cantcat, labels=nomcat,autopct='%1.1f%%')\n",
        "plt.show()"
      ],
      "metadata": {
        "colab": {
          "base_uri": "https://localhost:8080/",
          "height": 406
        },
        "id": "k9s6ptScog0_",
        "outputId": "a2c3f9b8-4c0b-489b-f141-9f6014b397c5"
      },
      "execution_count": 31,
      "outputs": [
        {
          "output_type": "display_data",
          "data": {
            "text/plain": [
              "<Figure size 640x480 with 1 Axes>"
            ],
            "image/png": "[encoded data removed]"
          },
          "metadata": {}
        }
      ]
    },
    {
      "cell_type": "code",
      "source": [
        "plt.bar(['tienda1', 'Tienda 2', 'Tienda 3', 'Tienda 4'],[ingresoTotal_t1, ingresoTotal_t2,ingresoTotal_t3, ingresoTotal_t4])\n",
        "plt.title('ingresos totales por tienda(en millones de pesos)')\n",
        "plt.show()\n"
      ],
      "metadata": {
        "colab": {
          "base_uri": "https://localhost:8080/",
          "height": 452
        },
        "id": "gXIDHyaUrpCk",
        "outputId": "e4247575-35cb-4172-a4f7-e811d3a1b065"
      },
      "execution_count": 50,
      "outputs": [
        {
          "output_type": "display_data",
          "data": {
            "text/plain": [
              "<Figure size 640x480 with 1 Axes>"
            ],
            "image/png": "[encoded data removed]"
          },
          "metadata": {}
        }
      ]
    },
    {
      "cell_type": "code",
      "source": [
        "plt.bar(['tienda1', 'Tienda 2', 'Tienda 3', 'Tienda 4'], [prmedioT1, pmedioT2, pmedioT3, pmedioT4])\n",
        "plt.title('valoracion de tienda en escala 5 estrellas')\n",
        "plt.show()"
      ],
      "metadata": {
        "colab": {
          "base_uri": "https://localhost:8080/",
          "height": 452
        },
        "id": "-rcW0kOhrqqz",
        "outputId": "0ad5d9d8-daf9-4924-eddb-2b8dc790bce4"
      },
      "execution_count": 48,
      "outputs": [
        {
          "output_type": "display_data",
          "data": {
            "text/plain": [
              "<Figure size 640x480 with 1 Axes>"
            ],
            "image/png": "[encoded data removed]"
          },
          "metadata": {}
        }
      ]
    },
    {
      "cell_type": "markdown",
      "source": [],
      "metadata": {
        "id": "RIiLmamgvey7"
      }
    },
    {
      "cell_type": "markdown",
      "source": [
        "#Conclucion del analisis"
      ],
      "metadata": {
        "id": "_At-ujZDvgQv"
      }
    },
    {
      "cell_type": "markdown",
      "source": [
        "Recomendación:\n",
        "\n",
        "Considerando que la tienda con la valoración más baja es la tienda 4, se recomienda vender esta tienda. Además, tiene la menor facturación y en general muestra menor desempeño en comparación con las demás tiendas.\n",
        "\n",
        "Razonamiento:\n",
        "\n",
        "La tienda 4 presenta las siguientes desventajas:\n",
        "\n",
        "Menor facturación.\n",
        "Valoración promedio más baja.\n",
        "Menor cantidad de productos vendidos.\n",
        "Es importante mencionar que antes de tomar una decisión final, se recomienda realizar un análisis más profundo de la tienda 4 para identificar las causas de su bajo rendimiento y considerar posibles estrategias para mejorar su desempeño."
      ],
      "metadata": {
        "id": "g0X6qGcivpWd"
      }
    }
  ]
}